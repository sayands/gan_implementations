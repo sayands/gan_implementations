{
  "nbformat": 4,
  "nbformat_minor": 0,
  "metadata": {
    "colab": {
      "name": "DCGAN-MNIST.ipynb",
      "version": "0.3.2",
      "provenance": [],
      "collapsed_sections": []
    },
    "kernelspec": {
      "name": "python3",
      "display_name": "Python 3"
    },
    "accelerator": "GPU"
  },
  "cells": [
    {
      "metadata": {
        "id": "OEJw_YzhXcbB",
        "colab_type": "code",
        "colab": {
          "base_uri": "https://localhost:8080/",
          "height": 122
        },
        "outputId": "9fee6918-e83f-4cba-8163-136059f02750"
      },
      "cell_type": "code",
      "source": [
        "# Google Colab Setup\n",
        "from google.colab import drive\n",
        "\n",
        "# This will prompt for authorization.\n",
        "drive.mount('/content/drive')"
      ],
      "execution_count": 1,
      "outputs": [
        {
          "output_type": "stream",
          "text": [
            "Go to this URL in a browser: https://accounts.google.com/o/oauth2/auth?client_id=947318989803-6bn6qk8qdgf4n4g3pfee6491hc0brc4i.apps.googleusercontent.com&redirect_uri=urn%3Aietf%3Awg%3Aoauth%3A2.0%3Aoob&scope=email%20https%3A%2F%2Fwww.googleapis.com%2Fauth%2Fdocs.test%20https%3A%2F%2Fwww.googleapis.com%2Fauth%2Fdrive%20https%3A%2F%2Fwww.googleapis.com%2Fauth%2Fdrive.photos.readonly%20https%3A%2F%2Fwww.googleapis.com%2Fauth%2Fpeopleapi.readonly&response_type=code\n",
            "\n",
            "Enter your authorization code:\n",
            "··········\n",
            "Mounted at /content/drive\n"
          ],
          "name": "stdout"
        }
      ]
    },
    {
      "metadata": {
        "colab_type": "code",
        "id": "v7qHw4odZ4m-",
        "colab": {
          "base_uri": "https://localhost:8080/",
          "height": 34
        },
        "outputId": "2e303a2f-e94a-4ae2-c106-14991a32c54f"
      },
      "cell_type": "code",
      "source": [
        "import os\n",
        "import numpy as np\n",
        "from tqdm import tqdm\n",
        "import matplotlib.pyplot as plt\n",
        "\n",
        "from keras.layers import Input, LeakyReLU\n",
        "from keras.models import Model, Sequential\n",
        "from keras.layers.core import Reshape, Dense, Dropout, Flatten\n",
        "from keras.layers.convolutional import Conv2D, UpSampling2D\n",
        "from keras.datasets import mnist\n",
        "from keras.optimizers import Adam\n",
        "from keras import backend as K\n",
        "from keras import initializers"
      ],
      "execution_count": 2,
      "outputs": [
        {
          "output_type": "stream",
          "text": [
            "Using TensorFlow backend.\n"
          ],
          "name": "stderr"
        }
      ]
    },
    {
      "metadata": {
        "id": "3vcVvjK_Yu1a",
        "colab_type": "code",
        "colab": {}
      },
      "cell_type": "code",
      "source": [
        "os.chdir('/content/drive/My Drive/app/DCGAN-MNIST/')\n",
        "os.environ[\"KERAS_BACKEND\"] = 'tensorflow'\n",
        "K.set_image_dim_ordering('th')\n",
        "\n",
        "np.random.seed(1000)\n",
        "randomDim = 100"
      ],
      "execution_count": 0,
      "outputs": []
    },
    {
      "metadata": {
        "id": "3VuQ9KCSaJVn",
        "colab_type": "code",
        "colab": {
          "base_uri": "https://localhost:8080/",
          "height": 51
        },
        "outputId": "c703c928-120a-4a0e-ec99-2fecfa1f2f26"
      },
      "cell_type": "code",
      "source": [
        "#Load MNIST Data\n",
        "(X_train, y_train), (X_test, y_test) = mnist.load_data()\n",
        "X_train = (X_train.astype(np.float32) - 127.5) / 127.5\n",
        "X_train = X_train[:, np.newaxis, :, :]"
      ],
      "execution_count": 4,
      "outputs": [
        {
          "output_type": "stream",
          "text": [
            "Downloading data from https://s3.amazonaws.com/img-datasets/mnist.npz\n",
            "11493376/11490434 [==============================] - 2s 0us/step\n"
          ],
          "name": "stdout"
        }
      ]
    },
    {
      "metadata": {
        "id": "YFlOHKvnchtJ",
        "colab_type": "code",
        "colab": {
          "base_uri": "https://localhost:8080/",
          "height": 88
        },
        "outputId": "c6aa3df7-e7e6-42ce-83f0-2bcadd08ebc4"
      },
      "cell_type": "code",
      "source": [
        "# Optimizer\n",
        "adam = Adam(lr = 0.0002, beta_1 = 0.5)"
      ],
      "execution_count": 5,
      "outputs": [
        {
          "output_type": "stream",
          "text": [
            "WARNING:tensorflow:From /usr/local/lib/python3.6/dist-packages/tensorflow/python/framework/op_def_library.py:263: colocate_with (from tensorflow.python.framework.ops) is deprecated and will be removed in a future version.\n",
            "Instructions for updating:\n",
            "Colocations handled automatically by placer.\n"
          ],
          "name": "stdout"
        }
      ]
    },
    {
      "metadata": {
        "colab_type": "code",
        "id": "BbxlIxENdz8P",
        "colab": {}
      },
      "cell_type": "code",
      "source": [
        "# Generator Network\n",
        "generator = Sequential()\n",
        "generator.add(Dense(128 * 7 * 7, input_dim = randomDim, kernel_initializer = initializers.RandomNormal(stddev = 0.02)))\n",
        "generator.add(LeakyReLU(0.2))\n",
        "generator.add(Reshape((128, 7, 7)))\n",
        "generator.add(UpSampling2D(size = (2, 2)))\n",
        "generator.add(Conv2D(64, kernel_size = (5, 5), padding = 'same'))\n",
        "generator.add(LeakyReLU(0.2))\n",
        "generator.add(UpSampling2D(size = (2, 2)))\n",
        "generator.add(Conv2D(1, kernel_size = (5, 5), padding = 'same', activation = 'tanh'))\n",
        "generator.compile(loss = 'binary_crossentropy', optimizer = 'adam')"
      ],
      "execution_count": 0,
      "outputs": []
    },
    {
      "metadata": {
        "id": "1_xaJv_3eDS9",
        "colab_type": "code",
        "colab": {
          "base_uri": "https://localhost:8080/",
          "height": 88
        },
        "outputId": "19425d16-00cb-4ca2-b676-ff0f3d13f6b2"
      },
      "cell_type": "code",
      "source": [
        "# Discriminator Network\n",
        "discriminator = Sequential()\n",
        "discriminator.add(Conv2D(64, kernel_size = (5, 5), strides = (2, 2), padding = 'same', input_shape = (1, 28, 28), kernel_initializer = initializers.RandomNormal(stddev = 0.02)))\n",
        "discriminator.add(LeakyReLU(0.2))\n",
        "discriminator.add(Dropout(0.3))\n",
        "discriminator.add(Conv2D(128, kernel_size = (5, 5), strides = (2, 2), padding = 'same'))\n",
        "discriminator.add(LeakyReLU(0.2))\n",
        "discriminator.add(Dropout(0.3))\n",
        "discriminator.add(Flatten())\n",
        "discriminator.add(Dense(1, activation = 'sigmoid'))\n",
        "discriminator.compile(loss = 'binary_crossentropy', optimizer = 'adam')"
      ],
      "execution_count": 7,
      "outputs": [
        {
          "output_type": "stream",
          "text": [
            "WARNING:tensorflow:From /usr/local/lib/python3.6/dist-packages/keras/backend/tensorflow_backend.py:3445: calling dropout (from tensorflow.python.ops.nn_ops) with keep_prob is deprecated and will be removed in a future version.\n",
            "Instructions for updating:\n",
            "Please use `rate` instead of `keep_prob`. Rate should be set to `rate = 1 - keep_prob`.\n"
          ],
          "name": "stdout"
        }
      ]
    },
    {
      "metadata": {
        "colab_type": "code",
        "id": "n3Ycqp0lxQuF",
        "colab": {}
      },
      "cell_type": "code",
      "source": [
        "# GAN network\n",
        "discriminator.trainable = False\n",
        "ganInput = Input(shape = (randomDim, ))\n",
        "x = generator(ganInput)\n",
        "ganOutput = discriminator(x)\n",
        "gan = Model(inputs = ganInput, outputs = ganOutput)\n",
        "gan.compile(loss = 'binary_crossentropy', optimizer = adam)"
      ],
      "execution_count": 0,
      "outputs": []
    },
    {
      "metadata": {
        "id": "V57bBtsaxiVM",
        "colab_type": "code",
        "colab": {}
      },
      "cell_type": "code",
      "source": [
        "dLosses = []\n",
        "gLosses = []"
      ],
      "execution_count": 0,
      "outputs": []
    },
    {
      "metadata": {
        "colab_type": "code",
        "id": "vMK367rhx8wB",
        "colab": {}
      },
      "cell_type": "code",
      "source": [
        "# Plot the loss from each batch\n",
        "def plotLoss(epoch):\n",
        "  plt.figure(figsize = (10, 8))\n",
        "  plt.plot(dLosses, label = 'Discriminative Loss')\n",
        "  plt.plot(gLosses, label = 'Generative Loss')\n",
        "  plt.xlabel('Epoch')\n",
        "  plt.ylabel('Loss')\n",
        "  plt.legend()\n",
        "  plt.savefig('dcgan_loss_epoch_%d.png' % epoch)\n",
        "  plt.close()"
      ],
      "execution_count": 0,
      "outputs": []
    },
    {
      "metadata": {
        "colab_type": "code",
        "id": "T1f2bb8ZycKY",
        "colab": {}
      },
      "cell_type": "code",
      "source": [
        "# Create a wall of generated MNIST images\n",
        "def plotGeneratedImages(epoch, examples = 100, dim = (10, 10), figsize = (10, 10)):\n",
        "  noise = np.random.normal(0, 1, size = [examples, randomDim])\n",
        "  generatedImages = generator.predict(noise)\n",
        "  \n",
        "  plt.figure(figsize = figsize)\n",
        "  for i in range(generatedImages.shape[0]):\n",
        "    plt.subplot(dim[0], dim[1], i+1)\n",
        "    plt.imshow(generatedImages[i, 0], interpolation = 'nearest', cmap = 'gray_r')\n",
        "    plt.axis('off')\n",
        "  \n",
        "  plt.tight_layout()\n",
        "  plt.savefig('dcgan_generated_image_epoch_%d.png' % epoch)\n",
        "  plt.close()"
      ],
      "execution_count": 0,
      "outputs": []
    },
    {
      "metadata": {
        "id": "2LQZG7ABy83e",
        "colab_type": "code",
        "colab": {}
      },
      "cell_type": "code",
      "source": [
        "def saveModels(epoch):\n",
        "  generator.save('./Models/dcgan_generator_epoch_%d.h5' % epoch)\n",
        "  discriminator.save('./Models/dcgan_discriminator_epoch_%d.h5' % epoch)"
      ],
      "execution_count": 0,
      "outputs": []
    },
    {
      "metadata": {
        "colab_type": "code",
        "id": "sao6AIyT0Fce",
        "colab": {}
      },
      "cell_type": "code",
      "source": [
        "def train(epochs = 1, batchSize = 128):\n",
        "  batchCount = X_train.shape[0] // batchSize\n",
        "  print(\"Epochs : {}\".format(epochs))\n",
        "  print(\"Batch Size : {}\".format(batchSize))\n",
        "  print(\"Batches per epoch : {}\".format(batchCount))\n",
        "  \n",
        "  for e in range(1, epochs + 1):\n",
        "    stringDisplay = '-'*15 + 'Epoch ' + str(e) + '-'*15\n",
        "    print(stringDisplay)\n",
        "    \n",
        "    for _ in tqdm(range(batchCount)):\n",
        "      # Get a random set of input noise and images\n",
        "      noise = np.random.normal(0, 1, size = [batchSize, randomDim])\n",
        "      imageBatch = X_train[np.random.randint(0, X_train.shape[0], size = batchSize)]\n",
        "      \n",
        "      # Generate fake MNIST images\n",
        "      generatedImages = generator.predict(noise)\n",
        "      X = np.concatenate([imageBatch, generatedImages])\n",
        "      \n",
        "      # Labels for generated and real data\n",
        "      yDis = np.zeros(2 * batchSize)\n",
        "      yDis[:batchSize] = 0.9\n",
        "      \n",
        "      # Train discriminator\n",
        "      discriminator.trainable = True\n",
        "      dloss = discriminator.train_on_batch(X, yDis)\n",
        "      \n",
        "      # Train generator\n",
        "      noise = np.random.normal(0, 1, size = [batchSize, randomDim])\n",
        "      yGen = np.ones(batchSize)\n",
        "      \n",
        "      discriminator.trainable = False\n",
        "      gloss = gan.train_on_batch(noise, yGen)\n",
        "      \n",
        "    # Store the loss of most recent batch from this epoch\n",
        "    dLosses.append(dloss)\n",
        "    gLosses.append(gloss)\n",
        "  \n",
        "    if e == 1 or e%5 == 0:\n",
        "      plotGeneratedImages(e)\n",
        "      saveModels(e)\n",
        "  \n",
        "  # Plot losses from every epoch\n",
        "  plotLoss(e)\n",
        "    \n",
        "  "
      ],
      "execution_count": 0,
      "outputs": []
    },
    {
      "metadata": {
        "id": "sgjzbIT-0b40",
        "colab_type": "code",
        "colab": {}
      },
      "cell_type": "code",
      "source": [
        "train(50, 128)"
      ],
      "execution_count": 0,
      "outputs": []
    }
  ]
}